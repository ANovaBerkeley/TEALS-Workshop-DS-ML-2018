{
 "cells": [
  {
   "cell_type": "markdown",
   "metadata": {
    "slideshow": {
     "slide_type": "notes"
    }
   },
   "source": [
    "### To see this guide in slideshow form:\n",
    "Run all cells. <br>\n",
    "Follow the RISE package documentation (https://github.com/damianavila/RISE) <br>\n",
    "Command to run: `conda install -c damianavila82 rise` <br>\n",
    "Once this has been done, \"Open the Command Palette\" and type 'slideshow' and select the option that shows up under \"RISE command group.\"<br><br>\n",
    "To move to next slide use right arrow or pg-dn. To move to previous slide use left arrow or pg-up.<br>\n",
    "To move to sub-slide use pg-dn (or back, use pg-up).<br>\n",
    "To select a cell, click it. Change it as you would like. <br>\n",
    "To execute cell, use shift-enter."
   ]
  },
  {
   "cell_type": "markdown",
   "metadata": {
    "slideshow": {
     "slide_type": "slide"
    }
   },
   "source": [
    "# Analyzing and Predicting Bitcoin Prices"
   ]
  },
  {
   "cell_type": "markdown",
   "metadata": {
    "slideshow": {
     "slide_type": "slide"
    }
   },
   "source": [
    "The first part of this lab is designed to give a glimpse of how **data science** works in Python, particularly through Pandas (pd) and Numpy (np). This guide will introduce you to how we can gather data from online sources, view data we collect, graph data using PyPlot (plt), and perform basic data cleaning (removing anomalies and filtering results). <br><br>\n",
    "The second part of the guide covers how we can use Python's **machine learning** toolkit (sklearn) to explore general trends in our data, tune possible models, and predict future prices based on that trend. This part takes a lot of math knowledge to understand fully, but, after finishing this exercise, you will be able to make predictions of market trends using various models!"
   ]
  },
  {
   "cell_type": "code",
   "execution_count": 1,
   "metadata": {
    "collapsed": true,
    "slideshow": {
     "slide_type": "slide"
    }
   },
   "outputs": [],
   "source": [
    "# Below are the packages we'll be using. \n",
    "\n",
    "\"\"\" \n",
    "Descriptions: \n",
    "quandl - allows us to import bitcoin price data from Quandl.com\n",
    "numpy (np) - allows us to do mathematical calculations on our data\n",
    "pandas (pd) - lets us store data in dataframes and do lots of interesting operations\n",
    "matplotlib.pyplot (plt) - lets us visualize data \n",
    "\"\"\"\n",
    "\n",
    "import quandl\n",
    "import numpy as np\n",
    "import pandas as pd\n",
    "import matplotlib.pyplot as plt"
   ]
  },
  {
   "cell_type": "markdown",
   "metadata": {
    "slideshow": {
     "slide_type": "subslide"
    }
   },
   "source": [
    "# Goals\n",
    "- Learn data manipulation techniques \n",
    "- Visualize data \n",
    "- Filter data\n",
    "- Understand how we can fit curves to data\n",
    "- Figure out how predictions work (Extrapolation)\n",
    "\n",
    "Hopefully this gets you a little excited about data science and machine learning!"
   ]
  },
  {
   "cell_type": "markdown",
   "metadata": {
    "slideshow": {
     "slide_type": "slide"
    }
   },
   "source": [
    "# Part 1: BTC Data Analysis with Python"
   ]
  },
  {
   "cell_type": "code",
   "execution_count": 2,
   "metadata": {
    "collapsed": true,
    "slideshow": {
     "slide_type": "subslide"
    }
   },
   "outputs": [],
   "source": [
    "# Go to this link: https://www.quandl.com/data/BCHARTS/ITBITSGD-Bitcoin-Markets-itbitSGD\n",
    "# follow the instructions on quandl's python page, store the results in the coin_data variable\n",
    "\n",
    "\n",
    "coin_data = quandl.get(\"BCHARTS/ITBITSGD\")\n"
   ]
  },
  {
   "cell_type": "code",
   "execution_count": 3,
   "metadata": {
    "slideshow": {
     "slide_type": "slide"
    }
   },
   "outputs": [
    {
     "data": {
      "text/html": [
       "<div>\n",
       "<style>\n",
       "    .dataframe thead tr:only-child th {\n",
       "        text-align: right;\n",
       "    }\n",
       "\n",
       "    .dataframe thead th {\n",
       "        text-align: left;\n",
       "    }\n",
       "\n",
       "    .dataframe tbody tr th {\n",
       "        vertical-align: top;\n",
       "    }\n",
       "</style>\n",
       "<table border=\"1\" class=\"dataframe\">\n",
       "  <thead>\n",
       "    <tr style=\"text-align: right;\">\n",
       "      <th></th>\n",
       "      <th>Open</th>\n",
       "      <th>High</th>\n",
       "      <th>Low</th>\n",
       "      <th>Close</th>\n",
       "      <th>Volume (BTC)</th>\n",
       "      <th>Volume (Currency)</th>\n",
       "      <th>Weighted Price</th>\n",
       "    </tr>\n",
       "    <tr>\n",
       "      <th>Date</th>\n",
       "      <th></th>\n",
       "      <th></th>\n",
       "      <th></th>\n",
       "      <th></th>\n",
       "      <th></th>\n",
       "      <th></th>\n",
       "      <th></th>\n",
       "    </tr>\n",
       "  </thead>\n",
       "  <tbody>\n",
       "    <tr>\n",
       "      <th>2013-11-18</th>\n",
       "      <td>604.2380</td>\n",
       "      <td>610.0000</td>\n",
       "      <td>389.7910</td>\n",
       "      <td>395.7319</td>\n",
       "      <td>2.0000</td>\n",
       "      <td>998.555190</td>\n",
       "      <td>499.277595</td>\n",
       "    </tr>\n",
       "    <tr>\n",
       "      <th>2013-11-19</th>\n",
       "      <td>0.0000</td>\n",
       "      <td>0.0000</td>\n",
       "      <td>0.0000</td>\n",
       "      <td>0.0000</td>\n",
       "      <td>0.0000</td>\n",
       "      <td>0.000000</td>\n",
       "      <td>0.000000</td>\n",
       "    </tr>\n",
       "    <tr>\n",
       "      <th>2013-11-20</th>\n",
       "      <td>610.4986</td>\n",
       "      <td>628.2049</td>\n",
       "      <td>605.5611</td>\n",
       "      <td>628.2049</td>\n",
       "      <td>11.1360</td>\n",
       "      <td>6796.520903</td>\n",
       "      <td>610.319765</td>\n",
       "    </tr>\n",
       "    <tr>\n",
       "      <th>2013-11-21</th>\n",
       "      <td>775.6867</td>\n",
       "      <td>780.2882</td>\n",
       "      <td>775.6867</td>\n",
       "      <td>780.2882</td>\n",
       "      <td>3.9800</td>\n",
       "      <td>3095.555836</td>\n",
       "      <td>777.777848</td>\n",
       "    </tr>\n",
       "    <tr>\n",
       "      <th>2013-11-22</th>\n",
       "      <td>860.4848</td>\n",
       "      <td>918.2900</td>\n",
       "      <td>856.3515</td>\n",
       "      <td>918.2900</td>\n",
       "      <td>1.5225</td>\n",
       "      <td>1340.136479</td>\n",
       "      <td>880.221004</td>\n",
       "    </tr>\n",
       "  </tbody>\n",
       "</table>\n",
       "</div>"
      ],
      "text/plain": [
       "                Open      High       Low     Close  Volume (BTC)  \\\n",
       "Date                                                               \n",
       "2013-11-18  604.2380  610.0000  389.7910  395.7319        2.0000   \n",
       "2013-11-19    0.0000    0.0000    0.0000    0.0000        0.0000   \n",
       "2013-11-20  610.4986  628.2049  605.5611  628.2049       11.1360   \n",
       "2013-11-21  775.6867  780.2882  775.6867  780.2882        3.9800   \n",
       "2013-11-22  860.4848  918.2900  856.3515  918.2900        1.5225   \n",
       "\n",
       "            Volume (Currency)  Weighted Price  \n",
       "Date                                           \n",
       "2013-11-18         998.555190      499.277595  \n",
       "2013-11-19           0.000000        0.000000  \n",
       "2013-11-20        6796.520903      610.319765  \n",
       "2013-11-21        3095.555836      777.777848  \n",
       "2013-11-22        1340.136479      880.221004  "
      ]
     },
     "execution_count": 3,
     "metadata": {},
     "output_type": "execute_result"
    }
   ],
   "source": [
    "coin_data.head(5)"
   ]
  },
  {
   "cell_type": "code",
   "execution_count": 4,
   "metadata": {
    "slideshow": {
     "slide_type": "slide"
    }
   },
   "outputs": [
    {
     "data": {
      "text/plain": [
       "DatetimeIndex(['2013-11-18', '2013-11-19', '2013-11-20', '2013-11-21',\n",
       "               '2013-11-22', '2013-11-23', '2013-11-24', '2013-11-25',\n",
       "               '2013-11-26', '2013-11-27',\n",
       "               ...\n",
       "               '2018-02-25', '2018-02-26', '2018-02-27', '2018-02-28',\n",
       "               '2018-03-01', '2018-03-02', '2018-03-03', '2018-03-04',\n",
       "               '2018-03-05', '2018-03-06'],\n",
       "              dtype='datetime64[ns]', name='Date', length=1568, freq=None)"
      ]
     },
     "execution_count": 4,
     "metadata": {},
     "output_type": "execute_result"
    }
   ],
   "source": [
    "# The index of our data frame is the first column (how the data is organized)\n",
    "coin_data.index"
   ]
  },
  {
   "cell_type": "markdown",
   "metadata": {
    "slideshow": {
     "slide_type": "slide"
    }
   },
   "source": [
    "\n",
    "\n",
    "### What kind of data is in the index column of coin_data? \n",
    "\n",
    "Put your answer below! What do you think?"
   ]
  },
  {
   "cell_type": "markdown",
   "metadata": {
    "slideshow": {
     "slide_type": "skip"
    }
   },
   "source": [
    "Answer:"
   ]
  },
  {
   "cell_type": "code",
   "execution_count": 48,
   "metadata": {
    "slideshow": {
     "slide_type": "subslide"
    }
   },
   "outputs": [
    {
     "name": "stdout",
     "output_type": "stream",
     "text": [
      "<class 'pandas.core.indexes.datetimes.DatetimeIndex'>\n"
     ]
    },
    {
     "data": {
      "text/plain": [
       "Index(['Open', 'High', 'Low', 'Close', 'Volume (BTC)', 'Volume (Currency)',\n",
       "       'Weighted Price'],\n",
       "      dtype='object')"
      ]
     },
     "execution_count": 48,
     "metadata": {},
     "output_type": "execute_result"
    }
   ],
   "source": [
    "# The index values are DatetimeIndex objects.\n",
    "print(type(coin_data.index))\n",
    "# The names of columns in the data frame\n",
    "coin_data.columns"
   ]
  },
  {
   "cell_type": "markdown",
   "metadata": {
    "slideshow": {
     "slide_type": "slide"
    }
   },
   "source": [
    "### Which column should we use when graphing out Bitcoin prices? \n",
    "\n",
    "Put your answer below! What do you think?"
   ]
  },
  {
   "cell_type": "markdown",
   "metadata": {
    "slideshow": {
     "slide_type": "skip"
    }
   },
   "source": [
    "Answer:"
   ]
  },
  {
   "cell_type": "markdown",
   "metadata": {
    "slideshow": {
     "slide_type": "slide"
    }
   },
   "source": [
    "\n",
    "**Let's graph this data. Which column should be on the x-axis and which should be on the y-axis? Discuss with a neighbor!**"
   ]
  },
  {
   "cell_type": "markdown",
   "metadata": {
    "collapsed": true,
    "slideshow": {
     "slide_type": "skip"
    }
   },
   "source": [
    "Answer:"
   ]
  },
  {
   "cell_type": "code",
   "execution_count": 6,
   "metadata": {
    "slideshow": {
     "slide_type": "slide"
    }
   },
   "outputs": [
    {
     "data": {
      "image/png": "[encoded data removed]",
      "text/plain": [
       "<matplotlib.figure.Figure at 0x27335761b38>"
      ]
     },
     "metadata": {},
     "output_type": "display_data"
    }
   ],
   "source": [
    "# Get the data you would like to use\n",
    "\n",
    "x0 = coin_data.index\n",
    "# Set y0 to be coin_data[ the column containing price info ]\n",
    "y0 = coin_data[\"Weighted Price\"]\n",
    "\n",
    "plt.plot(x0, y0)\n",
    "plt.ylabel(\"Price of BTC\")\n",
    "plt.xlabel(\"Date\")\n",
    "plt.xticks(x0[::150])\n",
    "\n",
    "# Run plt.show() to see your graph\n",
    "plt.show()"
   ]
  },
  {
   "cell_type": "markdown",
   "metadata": {
    "slideshow": {
     "slide_type": "subslide"
    }
   },
   "source": [
    "Look closely. Do you see any anomalies? (Hint: What do those vertical lines mean? What should we do about them?)"
   ]
  },
  {
   "cell_type": "markdown",
   "metadata": {
    "collapsed": true,
    "slideshow": {
     "slide_type": "skip"
    }
   },
   "source": [
    "Answer:"
   ]
  },
  {
   "cell_type": "markdown",
   "metadata": {
    "slideshow": {
     "slide_type": "slide"
    }
   },
   "source": [
    "# Cleaning the data\n",
    "In this case, **prices of 0** are messing up our data set. Removing them will solve our issue of anomalies in our data. \n",
    "\n",
    "Simply removing data could introduce discontinuities in time into our data set. Fortunately, the 0s indicate missing data, not an actual price of \\$0 as the price of bitcoin has not hit \\$0 since its creation. As a result, we can remove 0s safely."
   ]
  },
  {
   "cell_type": "code",
   "execution_count": 7,
   "metadata": {
    "slideshow": {
     "slide_type": "slide"
    }
   },
   "outputs": [
    {
     "data": {
      "image/png": "[encoded data removed]",
      "text/plain": [
       "<matplotlib.figure.Figure at 0x27335a26080>"
      ]
     },
     "metadata": {},
     "output_type": "display_data"
    }
   ],
   "source": [
    "x, y = [], []\n",
    "for i in range(len(y0)):\n",
    "    if y0[i] != 0:\n",
    "        x.append(x0[i])\n",
    "        y.append(y0[i])\n",
    "        \n",
    "plt.plot(x, y)\n",
    "plt.ylabel(\"Price of BTC\")\n",
    "plt.xlabel(\"Date\")\n",
    "plt.xticks(x[::150])\n",
    "plt.show()"
   ]
  },
  {
   "cell_type": "markdown",
   "metadata": {
    "slideshow": {
     "slide_type": "subslide"
    }
   },
   "source": [
    "That's a lot of flat, uninteresting information. Let's zoom into this graph to see trends more closely."
   ]
  },
  {
   "cell_type": "code",
   "execution_count": 8,
   "metadata": {
    "slideshow": {
     "slide_type": "slide"
    }
   },
   "outputs": [
    {
     "name": "stdout",
     "output_type": "stream",
     "text": [
      "Size of cleaned data set is: 1530\n",
      "BTC peak price: 25780.3630192\n",
      "BTC peak occurred on: 2017-12-17 00:00:00\n"
     ]
    }
   ],
   "source": [
    "# To find out where to zoom, let's first find the length of the data we're dealing with\n",
    "print(\"Size of cleaned data set is: \" + str(len(x)))\n",
    "\n",
    "# We can also see where the peak value occurs and what the peak price was\n",
    "max_price_value = max(y)\n",
    "max_price_index = np.argmax(y)\n",
    "peak_x_index = x[max_price_index]\n",
    "print(\"BTC peak price: \" + str(max_price_value))\n",
    "print(\"BTC peak occurred on: \" + str(x[max_price_index]))"
   ]
  },
  {
   "cell_type": "code",
   "execution_count": 9,
   "metadata": {
    "slideshow": {
     "slide_type": "subslide"
    }
   },
   "outputs": [
    {
     "data": {
      "text/html": [
       "<div>\n",
       "<style>\n",
       "    .dataframe thead tr:only-child th {\n",
       "        text-align: right;\n",
       "    }\n",
       "\n",
       "    .dataframe thead th {\n",
       "        text-align: left;\n",
       "    }\n",
       "\n",
       "    .dataframe tbody tr th {\n",
       "        vertical-align: top;\n",
       "    }\n",
       "</style>\n",
       "<table border=\"1\" class=\"dataframe\">\n",
       "  <thead>\n",
       "    <tr style=\"text-align: right;\">\n",
       "      <th></th>\n",
       "      <th>Open</th>\n",
       "      <th>High</th>\n",
       "      <th>Low</th>\n",
       "      <th>Close</th>\n",
       "      <th>Volume (BTC)</th>\n",
       "      <th>Volume (Currency)</th>\n",
       "      <th>Weighted Price</th>\n",
       "    </tr>\n",
       "  </thead>\n",
       "  <tbody>\n",
       "    <tr>\n",
       "      <th>count</th>\n",
       "      <td>1568.000000</td>\n",
       "      <td>1568.000000</td>\n",
       "      <td>1568.000000</td>\n",
       "      <td>1568.000000</td>\n",
       "      <td>1568.000000</td>\n",
       "      <td>1.568000e+03</td>\n",
       "      <td>1568.000000</td>\n",
       "    </tr>\n",
       "    <tr>\n",
       "      <th>mean</th>\n",
       "      <td>2161.304194</td>\n",
       "      <td>2219.815111</td>\n",
       "      <td>2082.817830</td>\n",
       "      <td>2155.407316</td>\n",
       "      <td>274.198620</td>\n",
       "      <td>1.899194e+05</td>\n",
       "      <td>2146.003702</td>\n",
       "    </tr>\n",
       "    <tr>\n",
       "      <th>std</th>\n",
       "      <td>4101.023985</td>\n",
       "      <td>4240.481356</td>\n",
       "      <td>3896.834473</td>\n",
       "      <td>4080.331777</td>\n",
       "      <td>596.419669</td>\n",
       "      <td>4.243166e+05</td>\n",
       "      <td>4046.356536</td>\n",
       "    </tr>\n",
       "    <tr>\n",
       "      <th>min</th>\n",
       "      <td>0.000000</td>\n",
       "      <td>0.000000</td>\n",
       "      <td>0.000000</td>\n",
       "      <td>0.000000</td>\n",
       "      <td>0.000000</td>\n",
       "      <td>0.000000e+00</td>\n",
       "      <td>0.000000</td>\n",
       "    </tr>\n",
       "    <tr>\n",
       "      <th>25%</th>\n",
       "      <td>459.520000</td>\n",
       "      <td>468.405000</td>\n",
       "      <td>448.675000</td>\n",
       "      <td>459.072500</td>\n",
       "      <td>12.370750</td>\n",
       "      <td>1.677967e+04</td>\n",
       "      <td>458.301038</td>\n",
       "    </tr>\n",
       "    <tr>\n",
       "      <th>50%</th>\n",
       "      <td>729.450000</td>\n",
       "      <td>746.463900</td>\n",
       "      <td>715.080000</td>\n",
       "      <td>730.000000</td>\n",
       "      <td>91.402750</td>\n",
       "      <td>6.322699e+04</td>\n",
       "      <td>734.053445</td>\n",
       "    </tr>\n",
       "    <tr>\n",
       "      <th>75%</th>\n",
       "      <td>1302.882500</td>\n",
       "      <td>1324.852500</td>\n",
       "      <td>1266.790000</td>\n",
       "      <td>1305.710000</td>\n",
       "      <td>300.452450</td>\n",
       "      <td>1.972589e+05</td>\n",
       "      <td>1305.900423</td>\n",
       "    </tr>\n",
       "    <tr>\n",
       "      <th>max</th>\n",
       "      <td>25831.850000</td>\n",
       "      <td>26333.630000</td>\n",
       "      <td>25359.990000</td>\n",
       "      <td>25863.860000</td>\n",
       "      <td>8019.045300</td>\n",
       "      <td>5.759165e+06</td>\n",
       "      <td>25780.363019</td>\n",
       "    </tr>\n",
       "  </tbody>\n",
       "</table>\n",
       "</div>"
      ],
      "text/plain": [
       "               Open          High           Low         Close  Volume (BTC)  \\\n",
       "count   1568.000000   1568.000000   1568.000000   1568.000000   1568.000000   \n",
       "mean    2161.304194   2219.815111   2082.817830   2155.407316    274.198620   \n",
       "std     4101.023985   4240.481356   3896.834473   4080.331777    596.419669   \n",
       "min        0.000000      0.000000      0.000000      0.000000      0.000000   \n",
       "25%      459.520000    468.405000    448.675000    459.072500     12.370750   \n",
       "50%      729.450000    746.463900    715.080000    730.000000     91.402750   \n",
       "75%     1302.882500   1324.852500   1266.790000   1305.710000    300.452450   \n",
       "max    25831.850000  26333.630000  25359.990000  25863.860000   8019.045300   \n",
       "\n",
       "       Volume (Currency)  Weighted Price  \n",
       "count       1.568000e+03     1568.000000  \n",
       "mean        1.899194e+05     2146.003702  \n",
       "std         4.243166e+05     4046.356536  \n",
       "min         0.000000e+00        0.000000  \n",
       "25%         1.677967e+04      458.301038  \n",
       "50%         6.322699e+04      734.053445  \n",
       "75%         1.972589e+05     1305.900423  \n",
       "max         5.759165e+06    25780.363019  "
      ]
     },
     "execution_count": 9,
     "metadata": {},
     "output_type": "execute_result"
    }
   ],
   "source": [
    "# Another way to see relevant information is to use the `describe` feature of DataFrames\n",
    "coin_data.describe()"
   ]
  },
  {
   "cell_type": "markdown",
   "metadata": {
    "slideshow": {
     "slide_type": "-"
    }
   },
   "source": [
    "What is the median price of Bitcoin? Mean price? Interquartile range (Q3-Q1)? Anything interesting from the descriptions?\n",
    "<br> <br>\n",
    "Also, was iPython able to do this operation quickly?"
   ]
  },
  {
   "cell_type": "code",
   "execution_count": 10,
   "metadata": {
    "slideshow": {
     "slide_type": "slide"
    }
   },
   "outputs": [
    {
     "data": {
      "image/png": "[encoded data removed]",
      "text/plain": [
       "<matplotlib.figure.Figure at 0x27335d32518>"
      ]
     },
     "metadata": {},
     "output_type": "display_data"
    }
   ],
   "source": [
    "# Using this and the fact that data was collected daily since 2013, we can approximate where the peak occurs and zoom in\n",
    "# Let's arbitrarily use the last 200 recorded days prior to the peak\n",
    "# Extra: Change this number and see what happens\n",
    "zoom_x = x[max_price_index - 200:]\n",
    "zoom_y = y[max_price_index - 200:]\n",
    "plt.plot(zoom_x, zoom_y)\n",
    "plt.ylabel(\"Price of BTC\")\n",
    "plt.xlabel(\"Date\")\n",
    "plt.xticks(zoom_x[::50])\n",
    "plt.show()"
   ]
  },
  {
   "cell_type": "markdown",
   "metadata": {
    "slideshow": {
     "slide_type": "slide"
    }
   },
   "source": [
    "# Part 2: Predicting trends!\n",
    "\n",
    "Look! We've been able to find out more about our data, including where the price peaked, what aspects of the data set were irrelevant/removable, and which portion of data is of the most interest to us. <br>\n",
    "\n",
    "Now that we have seen our data and worked with it a little bit, we can use Python's ML libraries (available through `sklearn`) to predict prices. <br>\n",
    "\n",
    "Just remember, this is really difficult to do accurately &mdash; but doing it well could make you lots of \\$\\$\\$. (Why?) "
   ]
  },
  {
   "cell_type": "code",
   "execution_count": 118,
   "metadata": {
    "collapsed": true,
    "slideshow": {
     "slide_type": "slide"
    }
   },
   "outputs": [],
   "source": [
    "\"\"\"\n",
    "Modules\n",
    "\n",
    "Descriptions:\n",
    "sklearn is the standard Python machine learning library\n",
    "linear_model contains functions for linear regression, an entry-level machine learning model\n",
    "- linear_model.LinearRegression() creates an object that can perform linear regression\n",
    "- we will also be using fit(), predict(), and coef_\n",
    "\"\"\"\n",
    "from sklearn import linear_model"
   ]
  },
  {
   "cell_type": "markdown",
   "metadata": {
    "slideshow": {
     "slide_type": "subslide"
    }
   },
   "source": [
    "To get you acquainted with this topic, we'll use a rather basic modeling technique called linear regression. This technique fits data points with a curve that minimizes error (distance between the predicted price and the actual price). There are alternatives to linear regression, and you should check them out! <br>\n",
    "\n",
    "Now, look back at the price graph. What type of function (constant, linear, quadratic, cubic) could best represent our price trends? Answer below!"
   ]
  },
  {
   "cell_type": "markdown",
   "metadata": {
    "slideshow": {
     "slide_type": "skip"
    }
   },
   "source": [
    "Answer:"
   ]
  },
  {
   "cell_type": "markdown",
   "metadata": {
    "slideshow": {
     "slide_type": "slide"
    }
   },
   "source": [
    "Linear regression normally works with a linear model: $y_i = a*x_i + b$. It uses linear algebra to estimate the coefficients ($a$ and $b$ in this case).<br>\n",
    "<br>\n",
    "However our data appears to be somewhat quadratic. What does a quadratic model look like? <br>\n",
    "Put your answer below! (If you're not sure, don't worry! We'll clarify this more once we get some feedback.)"
   ]
  },
  {
   "cell_type": "markdown",
   "metadata": {
    "slideshow": {
     "slide_type": "skip"
    }
   },
   "source": [
    "Answer:"
   ]
  },
  {
   "cell_type": "markdown",
   "metadata": {
    "slideshow": {
     "slide_type": "slide"
    }
   },
   "source": [
    "A quadratic model looks like this: $y_i = a * x_i ^ 2 + b * x_i + c$ <br>\n",
    "<br> \n",
    "To achieve this model structure, we can add **features** to our data to help linearize it. Features are the variable terms that we are adding to our existing linear model ($y_i = a*x_i + b$) to turn it into the desired quadratic model. With features, we can find a best fit line by calculating the coefficients ($a, b, c$) that create a function that fits our data as closely as possible. <br> \n",
    "<br>\n",
    "What features should we add to our data? "
   ]
  },
  {
   "cell_type": "code",
   "execution_count": 11,
   "metadata": {
    "collapsed": true,
    "slideshow": {
     "slide_type": "subslide"
    }
   },
   "outputs": [],
   "source": [
    "quadratic = [[x ** 2, x, 1] for x in np.arange(0, len(y))] # quadratic features to use in our estimation"
   ]
  },
  {
   "cell_type": "markdown",
   "metadata": {
    "slideshow": {
     "slide_type": "slide"
    }
   },
   "source": [
    "### The machine learning part (finally)\n",
    "\n",
    "We have a bunch of $x$s and $y$s. We've prepped our data by adding features to linearize it. Now, we get to use the `LinearRegression()` function in `sklearn`'s `linear_model` class. This function creates an object that can perform linear regression on our data points to find the best coefficients to optimize our model. (What was our model again?)"
   ]
  },
  {
   "cell_type": "code",
   "execution_count": 30,
   "metadata": {
    "slideshow": {
     "slide_type": "-"
    }
   },
   "outputs": [
    {
     "data": {
      "text/plain": [
       "LinearRegression(copy_X=True, fit_intercept=True, n_jobs=1, normalize=False)"
      ]
     },
     "execution_count": 30,
     "metadata": {},
     "output_type": "execute_result"
    }
   ],
   "source": [
    "linreg = linear_model.LinearRegression() # call the sklearn.linear_model function\n",
    "linreg.fit(quadratic, y) # the fit() function creates the best fit line"
   ]
  },
  {
   "cell_type": "code",
   "execution_count": 31,
   "metadata": {
    "slideshow": {
     "slide_type": "slide"
    }
   },
   "outputs": [
    {
     "name": "stdout",
     "output_type": "stream",
     "text": [
      "[  1.34577487e-02  -1.51782104e+01   0.00000000e+00]\n",
      "Function: 0.01345775x^0 + -15.17821036x^1 + 0.00000000x^2\n",
      "0.672557423568\n"
     ]
    }
   ],
   "source": [
    "print(linreg.coef_)\n",
    "print(\"Function: \" + \" + \".join([\"%.8f\" % linreg.coef_[i] + \"x^\" + str(i) for i in range(len(linreg.coef_))]))\n",
    "print(linreg.score(quadratic, y)) # Figure out the R^2 \"score\" of our prediction (out of 1.0)"
   ]
  },
  {
   "cell_type": "markdown",
   "metadata": {
    "slideshow": {
     "slide_type": "slide"
    }
   },
   "source": [
    "**HOLD UP**\n",
    "\n",
    "What does the .fit() function do? What are features and why did we use them?"
   ]
  },
  {
   "cell_type": "code",
   "execution_count": 110,
   "metadata": {
    "slideshow": {
     "slide_type": "slide"
    }
   },
   "outputs": [
    {
     "data": {
      "image/png": "[encoded data removed]",
      "text/plain": [
       "<matplotlib.figure.Figure at 0x27336bf3ac8>"
      ]
     },
     "metadata": {},
     "output_type": "display_data"
    }
   ],
   "source": [
    "# Let's see the graph that our regression created. \n",
    "y_hat = linreg.predict(quadratic)\n",
    "plt.plot(y_hat,'-b')\n",
    "plt.show()"
   ]
  },
  {
   "cell_type": "code",
   "execution_count": 115,
   "metadata": {},
   "outputs": [
    {
     "name": "stdout",
     "output_type": "stream",
     "text": [
      "Total sq error is 8342301615.101602\n",
      "Average sq error is 5452484.715752681\n"
     ]
    }
   ],
   "source": [
    "# How good was our prediction? Calculate the total squared error!\n",
    "squared_errors_quadratic = [(y_hat[i] - y[i]) ** 2 for i in range(len(y))]\n",
    "print(\"Total sq error is {0}\".format(sum(squared_errors_quadratic)))\n",
    "print(\"Average sq error is {0}\".format(sum(squared_errors_quadratic)/len(squared_errors_quadratic)))"
   ]
  },
  {
   "cell_type": "markdown",
   "metadata": {
    "slideshow": {
     "slide_type": "slide"
    }
   },
   "source": [
    "### We can try changing the model to see how the graph changes.\n",
    "Note: we are not using a training set to train our model. We are just fitting a model directly to our test data and eyeballing the features.\n",
    "Hint: *one way to do this quickly is to create a function that determines the different polynomial types to consider in our function.*"
   ]
  },
  {
   "cell_type": "code",
   "execution_count": 33,
   "metadata": {
    "slideshow": {
     "slide_type": "subslide"
    }
   },
   "outputs": [
    {
     "name": "stdout",
     "output_type": "stream",
     "text": [
      "Function: -0.00000105x^0 + 0.01063038x^1 + -10.97636726x^2 + 0.00000000x^3\n",
      "0.715381739381\n"
     ]
    },
    {
     "data": {
      "image/png": "[encoded data removed]",
      "text/plain": [
       "<matplotlib.figure.Figure at 0x2733642fcf8>"
      ]
     },
     "metadata": {},
     "output_type": "display_data"
    },
    {
     "name": "stdout",
     "output_type": "stream",
     "text": [
      "Function: 0.00000000x^0 + -10.95239405x^1 + 0.01061577x^2 + -0.00000105x^3 + 0.00000004x^4\n",
      "0.71550959765\n"
     ]
    },
    {
     "data": {
      "image/png": "[encoded data removed]",
      "text/plain": [
       "<matplotlib.figure.Figure at 0x273359b3748>"
      ]
     },
     "metadata": {},
     "output_type": "display_data"
    }
   ],
   "source": [
    "def create_prediction_function(test_x, test_y):\n",
    "#     x_inds = [[i ** j for j in range(deg + 1)] for i in np.arange(0, len(train_y))]\n",
    "    reg = linear_model.LinearRegression()\n",
    "    reg.fit(test_x, test_y)\n",
    "    print(\"Function: \" + \" + \".join([\"%.8f\" % reg.coef_[i] + \"x^\" + str(i) for i in range(len(reg.coef_))]))\n",
    "    print(reg.score(test_x, test_y)) # Figure out the R^2 \"score\" of our prediction (out of 1.0)\n",
    "    plt.plot(reg.predict(test_x),'-b')\n",
    "    plt.show()\n",
    "    return reg\n",
    "\n",
    "cubic = [[x ** 3, x ** 2, x, 1] for x in np.arange(0, len(y))]\n",
    "quartic = [[x ** i for i in range(0,5)] for x in np.arange(0, len(y))]\n",
    "cubic_linreg = create_prediction_function(cubic, y)\n",
    "quartic_linreg = create_prediction_function(quartic, y)"
   ]
  },
  {
   "cell_type": "markdown",
   "metadata": {
    "slideshow": {
     "slide_type": "slide"
    }
   },
   "source": [
    "As you can see in the code above, we can use linreg.predict() to figure out what our model will predict as the BTC price for a given date (index). We used this to graph our predicted function, but we can also use it to project the value of BTC. <br>\n",
    "<br>\n",
    "Once again, we'll use our friend the DataFrame for this!"
   ]
  },
  {
   "cell_type": "code",
   "execution_count": 108,
   "metadata": {
    "slideshow": {
     "slide_type": "subslide"
    }
   },
   "outputs": [
    {
     "data": {
      "text/html": [
       "<div>\n",
       "<style>\n",
       "    .dataframe thead tr:only-child th {\n",
       "        text-align: right;\n",
       "    }\n",
       "\n",
       "    .dataframe thead th {\n",
       "        text-align: left;\n",
       "    }\n",
       "\n",
       "    .dataframe tbody tr th {\n",
       "        vertical-align: top;\n",
       "    }\n",
       "</style>\n",
       "<table border=\"1\" class=\"dataframe\">\n",
       "  <thead>\n",
       "    <tr style=\"text-align: right;\">\n",
       "      <th></th>\n",
       "      <th>Actual (if exists)</th>\n",
       "      <th>Predicted Price</th>\n",
       "    </tr>\n",
       "    <tr>\n",
       "      <th>Date</th>\n",
       "      <th></th>\n",
       "      <th></th>\n",
       "    </tr>\n",
       "  </thead>\n",
       "  <tbody>\n",
       "    <tr>\n",
       "      <th>2017-10-28</th>\n",
       "      <td>7624.098051</td>\n",
       "      <td>8439.949563</td>\n",
       "    </tr>\n",
       "    <tr>\n",
       "      <th>2018-02-05</th>\n",
       "      <td>11683.388006</td>\n",
       "      <td>10824.875658</td>\n",
       "    </tr>\n",
       "    <tr>\n",
       "      <th>2018-03-06</th>\n",
       "      <td>14983.760000</td>\n",
       "      <td>11566.849663</td>\n",
       "    </tr>\n",
       "    <tr>\n",
       "      <th>2018-05-16</th>\n",
       "      <td>NaN</td>\n",
       "      <td>13478.956727</td>\n",
       "    </tr>\n",
       "    <tr>\n",
       "      <th>2018-08-24</th>\n",
       "      <td>NaN</td>\n",
       "      <td>16402.192771</td>\n",
       "    </tr>\n",
       "    <tr>\n",
       "      <th>2018-11-12</th>\n",
       "      <td>NaN</td>\n",
       "      <td>18934.573187</td>\n",
       "    </tr>\n",
       "    <tr>\n",
       "      <th>2018-12-02</th>\n",
       "      <td>NaN</td>\n",
       "      <td>19594.583789</td>\n",
       "    </tr>\n",
       "    <tr>\n",
       "      <th>2019-03-12</th>\n",
       "      <td>NaN</td>\n",
       "      <td>23056.129782</td>\n",
       "    </tr>\n",
       "    <tr>\n",
       "      <th>2019-06-20</th>\n",
       "      <td>NaN</td>\n",
       "      <td>26786.830749</td>\n",
       "    </tr>\n",
       "  </tbody>\n",
       "</table>\n",
       "</div>"
      ],
      "text/plain": [
       "            Actual (if exists)  Predicted Price\n",
       "Date                                           \n",
       "2017-10-28         7624.098051      8439.949563\n",
       "2018-02-05        11683.388006     10824.875658\n",
       "2018-03-06        14983.760000     11566.849663\n",
       "2018-05-16                 NaN     13478.956727\n",
       "2018-08-24                 NaN     16402.192771\n",
       "2018-11-12                 NaN     18934.573187\n",
       "2018-12-02                 NaN     19594.583789\n",
       "2019-03-12                 NaN     23056.129782\n",
       "2019-06-20                 NaN     26786.830749"
      ]
     },
     "execution_count": 108,
     "metadata": {},
     "output_type": "execute_result"
    }
   ],
   "source": [
    "current_day_number = len(x) - 1\n",
    "days_to_predict = [1400, 1500, 1529, 1600, 1700, 1780, 1800, 1900, 2000] # points you would like to predict (numerical)\n",
    "\n",
    "# use pd.DateOffset to figure out actual time stamps\n",
    "actual_dates_to_predict = [x[current_day_number] + pd.DateOffset(days=i-current_day_number) for i in days_to_predict]\n",
    "\n",
    "# add features to our inputs to make predictions using the model\n",
    "predictions = linreg.predict([[i**2, i, 1] for i in days_to_predict])\n",
    "df = pd.DataFrame({'Predicted Price':predictions, \n",
    "                   'Actual (if exists)':[y[i] if i <= current_day_number else None for i in days_to_predict]},\n",
    "                  index=actual_dates)\n",
    "df.index.name = 'Date'\n",
    "df"
   ]
  },
  {
   "cell_type": "markdown",
   "metadata": {
    "slideshow": {
     "slide_type": "slide"
    }
   },
   "source": [
    "#### Try this out for the cubic or quartic models we made. \n",
    "How do the models differ in their predictions? Which model do you trust? Any ideas on better functions to use as models?"
   ]
  },
  {
   "cell_type": "code",
   "execution_count": 75,
   "metadata": {
    "collapsed": true,
    "slideshow": {
     "slide_type": "slide"
    }
   },
   "outputs": [],
   "source": [
    "# Pick a model and adjust the code in the previous cell to figure out the predicted prices on days in days_to_predict\n",
    "# Create new dataframes for each model you use (this will make it easier to graph in the next step)\n",
    "# YOUR CODE HERE"
   ]
  },
  {
   "cell_type": "code",
   "execution_count": 76,
   "metadata": {
    "slideshow": {
     "slide_type": "subslide"
    }
   },
   "outputs": [
    {
     "data": {
      "image/png": "[encoded data removed]",
      "text/plain": [
       "<matplotlib.figure.Figure at 0x27336df9588>"
      ]
     },
     "metadata": {},
     "output_type": "display_data"
    }
   ],
   "source": [
    "# Use DataFrame.plot() and sub in the new dataframe containing predictions made by the model you used \n",
    "# to generate a graphical comparison of the predicted prices.\n",
    "df.plot()\n",
    "# YOUR CODE HERE\n",
    "plt.show()"
   ]
  },
  {
   "cell_type": "markdown",
   "metadata": {
    "collapsed": true,
    "slideshow": {
     "slide_type": "slide"
    }
   },
   "source": [
    "# Conclusion\n",
    "\n",
    "How good were our predictions? Is it easy to predict trends accurately?"
   ]
  },
  {
   "cell_type": "code",
   "execution_count": null,
   "metadata": {
    "collapsed": true
   },
   "outputs": [],
   "source": []
  }
 ],
 "metadata": {
  "celltoolbar": "Slideshow",
  "kernelspec": {
   "display_name": "Python 3",
   "language": "python",
   "name": "python3"
  },
  "language_info": {
   "codemirror_mode": {
    "name": "ipython",
    "version": 3
   },
   "file_extension": ".py",
   "mimetype": "text/x-python",
   "name": "python",
   "nbconvert_exporter": "python",
   "pygments_lexer": "ipython3",
   "version": "3.6.3"
  }
 },
 "nbformat": 4,
 "nbformat_minor": 2
}
